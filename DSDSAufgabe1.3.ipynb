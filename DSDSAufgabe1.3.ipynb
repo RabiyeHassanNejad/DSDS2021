{
 "cells": [
  {
   "cell_type": "code",
   "execution_count": null,
   "metadata": {},
   "outputs": [],
   "source": [
    " int check_input(char input[]) {\n",
    "      \n",
    " }"
   ]
  },
  {
   "cell_type": "code",
   "execution_count": null,
   "metadata": {},
   "outputs": [],
   "source": [
    " for (int i=strlen(password):; i>=0; --i){\n",
    "     \n",
    "     ussleep(100000);\n",
    "     if(password[i] != input[i]){\n",
    "          fehler=1; \n",
    "     }\n",
    " }\n",
    "     if (strlen(input) != strlen(password)){\n",
    "         fehler=1;\n",
    "         return fail();\n",
    "}\n",
    "         return success();"
   ]
  }
 ],
 "metadata": {
  "kernelspec": {
   "display_name": "Python 3",
   "language": "python",
   "name": "python3"
  },
  "language_info": {
   "codemirror_mode": {
    "name": "ipython",
    "version": 3
   },
   "file_extension": ".py",
   "mimetype": "text/x-python",
   "name": "python",
   "nbconvert_exporter": "python",
   "pygments_lexer": "ipython3",
   "version": "3.7.6"
  }
 },
 "nbformat": 4,
 "nbformat_minor": 4
}
